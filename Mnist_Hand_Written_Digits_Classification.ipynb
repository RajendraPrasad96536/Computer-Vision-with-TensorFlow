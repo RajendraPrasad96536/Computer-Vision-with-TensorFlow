{
  "nbformat": 4,
  "nbformat_minor": 0,
  "metadata": {
    "colab": {
      "name": "Mnist Hand Written Digits Classification.ipynb",
      "provenance": [],
      "authorship_tag": "ABX9TyNt51qWk3HMW4tQ9e63SflC",
      "include_colab_link": true
    },
    "kernelspec": {
      "name": "python3",
      "display_name": "Python 3"
    }
  },
  "cells": [
    {
      "cell_type": "markdown",
      "metadata": {
        "id": "view-in-github",
        "colab_type": "text"
      },
      "source": [
        "<a href=\"https://colab.research.google.com/github/RajendraPrasad96536/Computer-Vision-with-Tensorflow/blob/master/Mnist_Hand_Written_Digits_Classification.ipynb\" target=\"_parent\"><img src=\"https://colab.research.google.com/assets/colab-badge.svg\" alt=\"Open In Colab\"/></a>"
      ]
    },
    {
      "cell_type": "code",
      "metadata": {
        "id": "fIP6KKceJpzU",
        "colab_type": "code",
        "colab": {}
      },
      "source": [
        "import tensorflow as tf\n",
        "class myCallback(tf.keras.callbacks.Callback) :\n",
        "        def on_epoch_end(self, epoch, logs={}):\n",
        "            if(logs.get('accuracy') > 0.99):\n",
        "                print(\"Reached 99% accuracy so cancelling training!\")\n",
        "                self.model.stop_training = True\n"
      ],
      "execution_count": 4,
      "outputs": []
    },
    {
      "cell_type": "code",
      "metadata": {
        "id": "bAPjCIrSJt-G",
        "colab_type": "code",
        "colab": {
          "base_uri": "https://localhost:8080/",
          "height": 136
        },
        "outputId": "3beb774b-0554-49a6-ade9-800b4fd23350"
      },
      "source": [
        "mnist = tf.keras.datasets.mnist\n",
        "\n",
        "(x_train, y_train),(x_test, y_test) = mnist.load_data()\n",
        "x_train = x_train/255.\n",
        "x_test = x_test/255.\n",
        "\n",
        "x_train = x_train.reshape(60000,28,28,1)\n",
        "x_test = x_test.reshape(10000,28,28,1)\n",
        "callbacks = myCallback()\n",
        "model = tf.keras.models.Sequential([\n",
        "    tf.keras.layers.Conv2D(64, (3,3), activation='relu', input_shape=(28,28,1)),\n",
        "    tf.keras.layers.MaxPooling2D(2,2),                       \n",
        "    tf.keras.layers.Flatten(),\n",
        "    tf.keras.layers.Dense(512, activation='relu'),\n",
        "    tf.keras.layers.Dense(10, activation='softmax')\n",
        "])\n",
        "\n",
        "model.compile(optimizer='adam',\n",
        "              loss='sparse_categorical_crossentropy',\n",
        "              metrics=['accuracy']\n",
        "              )\n",
        "\n",
        "history = model.fit(x_train, y_train, epochs=20, \n",
        "                    validation_data = (x_test, y_test),\n",
        "                    callbacks=[callbacks])"
      ],
      "execution_count": 6,
      "outputs": [
        {
          "output_type": "stream",
          "text": [
            "Epoch 1/20\n",
            "1875/1875 [==============================] - 125s 66ms/step - loss: 0.1163 - accuracy: 0.9649 - val_loss: 0.0502 - val_accuracy: 0.9828\n",
            "Epoch 2/20\n",
            "1875/1875 [==============================] - 125s 66ms/step - loss: 0.0389 - accuracy: 0.9872 - val_loss: 0.0476 - val_accuracy: 0.9851\n",
            "Epoch 3/20\n",
            "1875/1875 [==============================] - ETA: 0s - loss: 0.0226 - accuracy: 0.9924Reached 99% accuracy so cancelling training!\n",
            "1875/1875 [==============================] - 128s 68ms/step - loss: 0.0226 - accuracy: 0.9924 - val_loss: 0.0392 - val_accuracy: 0.9881\n"
          ],
          "name": "stdout"
        }
      ]
    }
  ]
}